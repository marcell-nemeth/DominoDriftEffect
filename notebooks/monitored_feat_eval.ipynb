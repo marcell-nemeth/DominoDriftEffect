{
 "cells": [
  {
   "cell_type": "code",
   "execution_count": 8,
   "metadata": {},
   "outputs": [],
   "source": [
    "import numpy as np\n",
    "import pandas as pd\n",
    "import matplotlib.pyplot as plt"
   ]
  },
  {
   "cell_type": "code",
   "execution_count": 9,
   "metadata": {},
   "outputs": [],
   "source": [
    "# turn off worning\n",
    "import warnings\n",
    "warnings.filterwarnings('ignore')"
   ]
  },
  {
   "cell_type": "code",
   "execution_count": 113,
   "metadata": {},
   "outputs": [],
   "source": [
    "dataset = 'insects'\n",
    "drift_detector = 'KS'"
   ]
  },
  {
   "cell_type": "code",
   "execution_count": 114,
   "metadata": {},
   "outputs": [],
   "source": [
    "drift_baseline = pd.read_excel(f'{dataset}/monitored_baseline.xlsx')"
   ]
  },
  {
   "cell_type": "code",
   "execution_count": 115,
   "metadata": {},
   "outputs": [],
   "source": [
    "# Create the reversed pairs\n",
    "reversed_df = drift_baseline.rename(columns={'feat_1': 'feat_2', 'feat_2': 'feat_1', 'feat_1_drift': 'feat_2_drift', 'feat_2_drift': 'feat_1_drift', 'feat_1_cd_score': 'feat_2_cd_score', 'feat_2_cd_score': 'feat_1_cd_score'})\n",
    "\n",
    "# Concatenate the original dataframe with the reversed pairs\n",
    "drift_baseline = pd.concat([drift_baseline, reversed_df], ignore_index=True)"
   ]
  },
  {
   "cell_type": "code",
   "execution_count": 116,
   "metadata": {},
   "outputs": [],
   "source": [
    "drift_baseline = drift_baseline.drop_duplicates(subset='feat_1').loc[:, ['feat_1', 'feat_1_drift']]"
   ]
  },
  {
   "cell_type": "code",
   "execution_count": 117,
   "metadata": {},
   "outputs": [],
   "source": [
    "drift_js = pd.read_excel(f'{dataset}/monitored_{drift_detector}.xlsx')"
   ]
  },
  {
   "cell_type": "code",
   "execution_count": 118,
   "metadata": {},
   "outputs": [],
   "source": [
    "# Create the reversed pairs\n",
    "reversed_df = drift_js.rename(columns={'feat_1': 'feat_2', 'feat_2': 'feat_1', 'feat_1_drift': 'feat_2_drift', 'feat_2_drift': 'feat_1_drift', 'feat_1_cd_score': 'feat_2_cd_score', 'feat_2_cd_score': 'feat_1_cd_score'})\n",
    "\n",
    "# Concatenate the original dataframe with the reversed pairs\n",
    "drift_js = pd.concat([drift_js, reversed_df], ignore_index=True)"
   ]
  },
  {
   "cell_type": "code",
   "execution_count": 119,
   "metadata": {},
   "outputs": [],
   "source": [
    "drift_js = drift_js.drop_duplicates(subset='feat_1').loc[:, ['feat_1', 'feat_1_drift']].rename(columns={'feat_1_drift': 'feat_1_drift_js'})"
   ]
  },
  {
   "cell_type": "code",
   "execution_count": 120,
   "metadata": {},
   "outputs": [],
   "source": [
    "# merge the two dataframes\n",
    "drift_df = pd.merge(drift_baseline, drift_js, on='feat_1')"
   ]
  },
  {
   "cell_type": "code",
   "execution_count": 121,
   "metadata": {},
   "outputs": [
    {
     "data": {
      "text/plain": [
       "feat_1_drift       0.275\n",
       "feat_1_drift_js    0.330\n",
       "dtype: float64"
      ]
     },
     "execution_count": 121,
     "metadata": {},
     "output_type": "execute_result"
    }
   ],
   "source": [
    "drift_df.agg({'feat_1_drift': 'mean', 'feat_1_drift_js': 'mean'})"
   ]
  },
  {
   "cell_type": "code",
   "execution_count": 122,
   "metadata": {},
   "outputs": [
    {
     "name": "stdout",
     "output_type": "stream",
     "text": [
      "Accuracy: 0.895\n",
      "Precision: 0.7575757575757576\n",
      "Recall: 0.9090909090909091\n",
      "F1: 0.8264462809917356\n"
     ]
    }
   ],
   "source": [
    "# use sklearn to calculate the accuracy, precision, recall and F1 score\n",
    "from sklearn.metrics import accuracy_score, precision_score, recall_score, f1_score\n",
    "\n",
    "accuracy = accuracy_score(drift_df['feat_1_drift'], drift_df['feat_1_drift_js'])\n",
    "precision = precision_score(drift_df['feat_1_drift'], drift_df['feat_1_drift_js'])\n",
    "recall = recall_score(drift_df['feat_1_drift'], drift_df['feat_1_drift_js'])\n",
    "f1 = f1_score(drift_df['feat_1_drift'], drift_df['feat_1_drift_js'])\n",
    "\n",
    "print(f'Accuracy: {accuracy}')\n",
    "print(f'Precision: {precision}')\n",
    "print(f'Recall: {recall}')\n",
    "print(f'F1: {f1}')"
   ]
  },
  {
   "cell_type": "code",
   "execution_count": 123,
   "metadata": {},
   "outputs": [],
   "source": [
    "results = []\n",
    "\n",
    "step_dict = {'heartbeats': [140, 70, 35, 17, 8, 4], 'insects': [100, 50, 25, 12, 6, 3], 'cicids': [9, 4], 'covertype': [7, 3]} \n",
    "\n",
    "for i in step_dict[dataset]: # covertype\n",
    "    accuracy = []\n",
    "    precision = []\n",
    "    recall = []\n",
    "    f1 = []\n",
    "    for j in range(20):\n",
    "        features = drift_df.sample(i)\n",
    "        accuracy.append(accuracy_score(features['feat_1_drift'], features['feat_1_drift_js']))\n",
    "        precision.append(precision_score(features['feat_1_drift'], features['feat_1_drift_js']))\n",
    "        recall.append(recall_score(features['feat_1_drift'], features['feat_1_drift_js']))\n",
    "        f1.append(f1_score(features['feat_1_drift'], features['feat_1_drift_js']))\n",
    "    results.append([i, np.mean(accuracy), np.mean(recall), np.mean(precision), np.mean(f1)])\n",
    "\n",
    "results_df = pd.DataFrame(results, columns=['Number of features', 'Accuracy', 'Recall', 'Precision', 'F1'])"
   ]
  },
  {
   "cell_type": "code",
   "execution_count": 124,
   "metadata": {},
   "outputs": [
    {
     "data": {
      "text/html": [
       "<div>\n",
       "<style scoped>\n",
       "    .dataframe tbody tr th:only-of-type {\n",
       "        vertical-align: middle;\n",
       "    }\n",
       "\n",
       "    .dataframe tbody tr th {\n",
       "        vertical-align: top;\n",
       "    }\n",
       "\n",
       "    .dataframe thead th {\n",
       "        text-align: right;\n",
       "    }\n",
       "</style>\n",
       "<table border=\"1\" class=\"dataframe\">\n",
       "  <thead>\n",
       "    <tr style=\"text-align: right;\">\n",
       "      <th></th>\n",
       "      <th>Number of features</th>\n",
       "      <th>Accuracy</th>\n",
       "      <th>Recall</th>\n",
       "      <th>Precision</th>\n",
       "      <th>F1</th>\n",
       "    </tr>\n",
       "  </thead>\n",
       "  <tbody>\n",
       "    <tr>\n",
       "      <th>0</th>\n",
       "      <td>100</td>\n",
       "      <td>0.895500</td>\n",
       "      <td>0.906440</td>\n",
       "      <td>0.767767</td>\n",
       "      <td>0.829920</td>\n",
       "    </tr>\n",
       "    <tr>\n",
       "      <th>1</th>\n",
       "      <td>50</td>\n",
       "      <td>0.898000</td>\n",
       "      <td>0.918616</td>\n",
       "      <td>0.768343</td>\n",
       "      <td>0.833296</td>\n",
       "    </tr>\n",
       "    <tr>\n",
       "      <th>2</th>\n",
       "      <td>25</td>\n",
       "      <td>0.892000</td>\n",
       "      <td>0.898689</td>\n",
       "      <td>0.756919</td>\n",
       "      <td>0.815767</td>\n",
       "    </tr>\n",
       "    <tr>\n",
       "      <th>3</th>\n",
       "      <td>12</td>\n",
       "      <td>0.891667</td>\n",
       "      <td>0.910833</td>\n",
       "      <td>0.769167</td>\n",
       "      <td>0.806382</td>\n",
       "    </tr>\n",
       "    <tr>\n",
       "      <th>4</th>\n",
       "      <td>6</td>\n",
       "      <td>0.875000</td>\n",
       "      <td>0.791667</td>\n",
       "      <td>0.679167</td>\n",
       "      <td>0.712857</td>\n",
       "    </tr>\n",
       "    <tr>\n",
       "      <th>5</th>\n",
       "      <td>3</td>\n",
       "      <td>0.933333</td>\n",
       "      <td>0.825000</td>\n",
       "      <td>0.825000</td>\n",
       "      <td>0.816667</td>\n",
       "    </tr>\n",
       "  </tbody>\n",
       "</table>\n",
       "</div>"
      ],
      "text/plain": [
       "   Number of features  Accuracy    Recall  Precision        F1\n",
       "0                 100  0.895500  0.906440   0.767767  0.829920\n",
       "1                  50  0.898000  0.918616   0.768343  0.833296\n",
       "2                  25  0.892000  0.898689   0.756919  0.815767\n",
       "3                  12  0.891667  0.910833   0.769167  0.806382\n",
       "4                   6  0.875000  0.791667   0.679167  0.712857\n",
       "5                   3  0.933333  0.825000   0.825000  0.816667"
      ]
     },
     "execution_count": 124,
     "metadata": {},
     "output_type": "execute_result"
    }
   ],
   "source": [
    "results_df"
   ]
  },
  {
   "cell_type": "code",
   "execution_count": 125,
   "metadata": {},
   "outputs": [],
   "source": [
    "results_df.to_excel(f'{dataset}/results_{drift_detector}.xlsx', index=False)"
   ]
  },
  {
   "cell_type": "code",
   "execution_count": null,
   "metadata": {},
   "outputs": [],
   "source": []
  }
 ],
 "metadata": {
  "kernelspec": {
   "display_name": "venv",
   "language": "python",
   "name": "python3"
  },
  "language_info": {
   "codemirror_mode": {
    "name": "ipython",
    "version": 3
   },
   "file_extension": ".py",
   "mimetype": "text/x-python",
   "name": "python",
   "nbconvert_exporter": "python",
   "pygments_lexer": "ipython3",
   "version": "3.10.10"
  }
 },
 "nbformat": 4,
 "nbformat_minor": 2
}
